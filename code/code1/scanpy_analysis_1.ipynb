{
 "cells": [
  {
   "cell_type": "code",
   "execution_count": null,
   "metadata": {
    "collapsed": true,
    "pycharm": {
     "name": "#%%\n",
     "is_executing": true
    }
   },
   "outputs": [],
   "source": [
    "import numpy as np\n",
    "import scanpy as sc\n",
    "import pandas as pd"
   ]
  },
  {
   "cell_type": "code",
   "execution_count": null,
   "outputs": [],
   "source": [
    "sc.settings.verbosity = 3  # verbosity: errors (0), warnings (1), info (2), hints (3)\n",
    "sc.logging.print_header()  # print version\n",
    "sc.settings.set_figure_params(dpi=80, facecolor='white')  # Set resolution/size, styling and"
   ],
   "metadata": {
    "collapsed": false,
    "pycharm": {
     "name": "#%%\n",
     "is_executing": true
    }
   }
  },
  {
   "cell_type": "code",
   "execution_count": null,
   "outputs": [],
   "source": [
    "adult_wc_path = '../results/logs1/adult_wc_T.csv'\n",
    "adult_wc = sc.read_csv(adult_wc_path)\n",
    "# adult_wc.write_csvs('../results/logs1/adult_wc/')"
   ],
   "metadata": {
    "collapsed": false,
    "pycharm": {
     "name": "#%%\n",
     "is_executing": true
    }
   }
  },
  {
   "cell_type": "code",
   "execution_count": null,
   "outputs": [],
   "source": [
    "sc.pl.highest_expr_genes(adult_wc, n_top=20)"
   ],
   "metadata": {
    "collapsed": false,
    "pycharm": {
     "name": "#%%\n",
     "is_executing": true
    }
   }
  },
  {
   "cell_type": "code",
   "execution_count": null,
   "outputs": [],
   "source": [
    "sc.pp.filter_genes(adult_wc, max_counts = 100000000, inplace=True)\n",
    "sc.pl.highest_expr_genes(adult_wc, n_top=20)"
   ],
   "metadata": {
    "collapsed": false,
    "pycharm": {
     "name": "#%%\n",
     "is_executing": true
    }
   }
  },
  {
   "cell_type": "code",
   "execution_count": null,
   "outputs": [],
   "source": [
    "adult_wc.var['mt'] = adult_wc.var_names.str.startswith('mt.')  # 将线粒体基因标记为 mt\n",
    "sc.pp.calculate_qc_metrics(adult_wc,qc_vars=['mt'],percent_top=None, log1p=False, inplace=True)\n",
    "# adult_wc.write_csvs('../results/logs1/qc_metrics/')"
   ],
   "metadata": {
    "collapsed": false,
    "pycharm": {
     "name": "#%%\n",
     "is_executing": true
    }
   }
  },
  {
   "cell_type": "code",
   "execution_count": null,
   "outputs": [],
   "source": [
    "sc.pl.violin(adult_wc, ['n_genes_by_counts', 'total_counts', 'pct_counts_mt'],\n",
    "             jitter=0.4, multi_panel=True)"
   ],
   "metadata": {
    "collapsed": false,
    "pycharm": {
     "name": "#%%\n",
     "is_executing": true
    }
   }
  },
  {
   "cell_type": "code",
   "execution_count": null,
   "outputs": [],
   "source": [
    "sc.pl.scatter(adult_wc, x='total_counts', y='n_genes_by_counts')"
   ],
   "metadata": {
    "collapsed": false,
    "pycharm": {
     "name": "#%%\n",
     "is_executing": true
    }
   }
  },
  {
   "cell_type": "code",
   "execution_count": null,
   "outputs": [],
   "source": [
    "sc.pp.normalize_total(adult_wc, target_sum=1e4)\n",
    "sc.pp.log1p(adult_wc)\n",
    "# sc.pp.scale(adult_wc)\n",
    "# pd.DataFrame(adult_wc.X).to_csv('../results/logs1/normalize/X.csv',header=adult_wc.var_names)"
   ],
   "metadata": {
    "collapsed": false,
    "pycharm": {
     "name": "#%%\n",
     "is_executing": true
    }
   }
  },
  {
   "cell_type": "code",
   "execution_count": null,
   "outputs": [],
   "source": [
    "sc.pp.highly_variable_genes(adult_wc)\n",
    "sc.pl.highly_variable_genes(adult_wc)"
   ],
   "metadata": {
    "collapsed": false,
    "pycharm": {
     "name": "#%%\n",
     "is_executing": true
    }
   }
  },
  {
   "cell_type": "code",
   "execution_count": null,
   "outputs": [],
   "source": [
    "sc.tl.pca(adult_wc, svd_solver='arpack')\n",
    "sc.pl.pca(adult_wc, color='Lars2')\n",
    "# adult_wc.write_csvs('../results/logs1/pca/')"
   ],
   "metadata": {
    "collapsed": false,
    "pycharm": {
     "name": "#%%\n",
     "is_executing": true
    }
   }
  },
  {
   "cell_type": "code",
   "execution_count": null,
   "outputs": [],
   "source": [
    "sc.pl.pca_variance_ratio(adult_wc, log=True)"
   ],
   "metadata": {
    "collapsed": false,
    "pycharm": {
     "name": "#%%\n",
     "is_executing": true
    }
   }
  },
  {
   "cell_type": "code",
   "execution_count": null,
   "outputs": [],
   "source": [
    "sc.pp.neighbors(adult_wc, n_neighbors=10, n_pcs=40)\n",
    "sc.tl.umap(adult_wc)\n",
    "sc.pl.umap(adult_wc,color='Lars2')"
   ],
   "metadata": {
    "collapsed": false,
    "pycharm": {
     "name": "#%%\n",
     "is_executing": true
    }
   }
  },
  {
   "cell_type": "code",
   "execution_count": null,
   "outputs": [],
   "source": [
    "sc.pp.neighbors(adult_wc, n_neighbors=10, n_pcs=40)\n",
    "sc.tl.tsne(adult_wc)\n",
    "sc.pl.tsne(adult_wc,color='Lars2')"
   ],
   "metadata": {
    "collapsed": false,
    "pycharm": {
     "name": "#%%\n",
     "is_executing": true
    }
   }
  },
  {
   "cell_type": "code",
   "execution_count": null,
   "outputs": [],
   "source": [
    "sc.pp.neighbors(adult_wc, n_neighbors=10, n_pcs=40)\n",
    "sc.tl.leiden(adult_wc)\n",
    "# adult_wc.write_csvs('../results/logs1/leiden/')\n",
    "sc.pl.umap(adult_wc,color=['leiden'])\n",
    "sc.pl.tsne(adult_wc, color=['leiden'])"
   ],
   "metadata": {
    "collapsed": false,
    "pycharm": {
     "name": "#%%\n",
     "is_executing": true
    }
   }
  },
  {
   "cell_type": "code",
   "execution_count": null,
   "outputs": [],
   "source": [
    "# sc.tl.louvain(adult_wc)\n",
    "# sc.pl.tsne(adult_wc, color=['louvain'])\n",
    "# sc.pl.umap(adult_wc,color=['louvain'])"
   ],
   "metadata": {
    "collapsed": false,
    "pycharm": {
     "name": "#%%\n",
     "is_executing": true
    }
   }
  },
  {
   "cell_type": "code",
   "execution_count": null,
   "outputs": [],
   "source": [
    "sc.tl.rank_genes_groups(adult_wc, 'leiden', method='logreg')\n",
    "sc.pl.rank_genes_groups(adult_wc, n_genes=25, sharey=False)"
   ],
   "metadata": {
    "collapsed": false,
    "pycharm": {
     "name": "#%%\n",
     "is_executing": true
    }
   }
  },
  {
   "cell_type": "code",
   "execution_count": null,
   "outputs": [],
   "source": [],
   "metadata": {
    "collapsed": false,
    "pycharm": {
     "name": "#%%\n",
     "is_executing": true
    }
   }
  }
 ],
 "metadata": {
  "kernelspec": {
   "display_name": "Python 3",
   "language": "python",
   "name": "python3"
  },
  "language_info": {
   "codemirror_mode": {
    "name": "ipython",
    "version": 2
   },
   "file_extension": ".py",
   "mimetype": "text/x-python",
   "name": "python",
   "nbconvert_exporter": "python",
   "pygments_lexer": "ipython2",
   "version": "2.7.6"
  }
 },
 "nbformat": 4,
 "nbformat_minor": 0
}