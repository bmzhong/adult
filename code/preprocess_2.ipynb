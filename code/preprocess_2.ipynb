{
 "cells": [
  {
   "cell_type": "code",
   "execution_count": 1,
   "metadata": {
    "collapsed": true,
    "pycharm": {
     "name": "#%%\n"
    }
   },
   "outputs": [],
   "source": [
    "import pandas as pd"
   ]
  },
  {
   "cell_type": "code",
   "execution_count": 2,
   "outputs": [
    {
     "name": "stdout",
     "output_type": "stream",
     "text": [
      "genes number: 53261, cells number: 999\n"
     ]
    }
   ],
   "source": [
    "adult_wc_path = '../data/Adult_WC.csv'\n",
    "adult_wc = pd.read_csv(adult_wc_path, index_col=0)\n",
    "print(f'genes number: {adult_wc.shape[0]}, cells number: {adult_wc.shape[1]}')\n",
    "# transpose\n",
    "adult_wc_T = adult_wc.T\n",
    "adult_wc_T.to_csv('../data/adult_wc_T.csv')"
   ],
   "metadata": {
    "collapsed": false,
    "pycharm": {
     "name": "#%%\n"
    }
   }
  }
 ],
 "metadata": {
  "kernelspec": {
   "display_name": "Python 3",
   "language": "python",
   "name": "python3"
  },
  "language_info": {
   "codemirror_mode": {
    "name": "ipython",
    "version": 2
   },
   "file_extension": ".py",
   "mimetype": "text/x-python",
   "name": "python",
   "nbconvert_exporter": "python",
   "pygments_lexer": "ipython2",
   "version": "2.7.6"
  }
 },
 "nbformat": 4,
 "nbformat_minor": 0
}